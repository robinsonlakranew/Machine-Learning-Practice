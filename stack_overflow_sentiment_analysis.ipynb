{
  "nbformat": 4,
  "nbformat_minor": 0,
  "metadata": {
    "colab": {
      "name": "stack overflow-sentiment analysis.ipynb",
      "provenance": [],
      "authorship_tag": "ABX9TyMUnuYzb7iT9lcBMmLiAU0n",
      "include_colab_link": true
    },
    "kernelspec": {
      "name": "python3",
      "display_name": "Python 3"
    },
    "language_info": {
      "name": "python"
    }
  },
  "cells": [
    {
      "cell_type": "markdown",
      "metadata": {
        "id": "view-in-github",
        "colab_type": "text"
      },
      "source": [
        "<a href=\"https://colab.research.google.com/github/robinsonlakranew/Machine-Learning-Practice/blob/main/stack_overflow_sentiment_analysis.ipynb\" target=\"_parent\"><img src=\"https://colab.research.google.com/assets/colab-badge.svg\" alt=\"Open In Colab\"/></a>"
      ]
    },
    {
      "cell_type": "code",
      "execution_count": 21,
      "metadata": {
        "id": "4jzYM4BC_REb"
      },
      "outputs": [],
      "source": [
        "import tensorflow as tf\n",
        "import os, re, string"
      ]
    },
    {
      "cell_type": "code",
      "source": [
        "url = \"https://storage.googleapis.com/download.tensorflow.org/data/stack_overflow_16k.tar.gz\"\n",
        "\n",
        "dataset = tf.keras.utils.get_file('stackoverflow_data', url, untar=True,\n",
        "                                  cache_dir='.',\n",
        "                                  cache_subdir='')\n",
        "\n",
        "dataset_dir = os.path.join(os.path.dirname(dataset), 'stackoverflow')"
      ],
      "metadata": {
        "id": "lCEMhpPt_WoJ"
      },
      "execution_count": 5,
      "outputs": []
    },
    {
      "cell_type": "code",
      "source": [
        "train_dir = os.path.join(dataset_dir, 'train')\n",
        "for i in os.listdir('train'):\n",
        "  print(i)"
      ],
      "metadata": {
        "colab": {
          "base_uri": "https://localhost:8080/"
        },
        "id": "fD5t3L6A_de0",
        "outputId": "db3bac57-4793-4d36-999e-35b9ef763253"
      },
      "execution_count": 8,
      "outputs": [
        {
          "output_type": "stream",
          "name": "stdout",
          "text": [
            "python\n",
            "javascript\n",
            "csharp\n",
            "java\n"
          ]
        }
      ]
    },
    {
      "cell_type": "code",
      "source": [
        "raw_train_ds = tf.keras.utils.text_dataset_from_directory(\n",
        "    'train',\n",
        "    batch_size = 32,\n",
        "    validation_split = 0.2,\n",
        "    seed = 33,\n",
        "    subset = 'training'\n",
        ")\n",
        "\n",
        "raw_val_ds = tf.keras.utils.text_dataset_from_directory(\n",
        "    'train',\n",
        "    batch_size = 32,\n",
        "    validation_split = 0.2,\n",
        "    seed = 33,\n",
        "    subset = 'validation'\n",
        ")\n",
        "\n",
        "raw_test_ds = tf.keras.utils.text_dataset_from_directory(\n",
        "    'test',\n",
        "    batch_size = 32\n",
        ")"
      ],
      "metadata": {
        "colab": {
          "base_uri": "https://localhost:8080/"
        },
        "id": "CqyrBSRuBYTS",
        "outputId": "0f165d46-f82d-472e-ead6-cdd587e61409"
      },
      "execution_count": 15,
      "outputs": [
        {
          "output_type": "stream",
          "name": "stdout",
          "text": [
            "Found 8000 files belonging to 4 classes.\n",
            "Using 6400 files for training.\n",
            "Found 8000 files belonging to 4 classes.\n",
            "Using 1600 files for validation.\n",
            "Found 8000 files belonging to 4 classes.\n"
          ]
        }
      ]
    },
    {
      "cell_type": "code",
      "source": [
        "for train_ds, label_ds in raw_train_ds.take(1):\n",
        "  for i in train_ds:\n",
        "    print(i.numpy())"
      ],
      "metadata": {
        "id": "YyyyQKvjCIrU"
      },
      "execution_count": null,
      "outputs": []
    },
    {
      "cell_type": "code",
      "source": [
        "def custom_standardization(input_text):\n",
        "  lower = tf.strings.lower(input_text)\n",
        "  html_stripped = tf.strings.regex_replace(lower, '<.*?>', '')\n",
        "  return tf.strings.regex_replace(html_stripped, '[%s]' % re.escape(string.punctuation),\n",
        "                                  '')\n",
        "  \n",
        "for t, l in raw_train_ds:\n",
        "  for i in t:\n",
        "    print(i.numpy())\n",
        "    print(custom_vectorizer(i.numpy()))\n",
        "    break\n",
        "  break"
      ],
      "metadata": {
        "colab": {
          "base_uri": "https://localhost:8080/"
        },
        "id": "6Jk7fxwMCkd8",
        "outputId": "1d801d9f-b7db-472f-8ee8-e4ab1dc0e6fc"
      },
      "execution_count": 29,
      "outputs": [
        {
          "output_type": "stream",
          "name": "stdout",
          "text": [
            "b'\"using boolean to exit loops and then redo the loops i\\'m fairly new to blank, so i don\\'t know too many fancy stuff and i\\'m kind of stuck...what i need to do is, take a text file; import the content into an arraylist; check each line for a specific char that is between two \"\"#\"\"; then check each line in the arraylist again to see if one of the lines already has that char; if it does, then i need to re-enter the whole string line and re-check it; and if it doesn\\'t, then i need to put it at the bottom of the arraylist and into the text file. ..so far, i\\'ve gotten to the part where i need to check if the entered line\\'s char is repeating, but i can only do it once. if, for example, i enter it again i would get an indexoutofboundsexception because of one of the loops. so, i figured i\\'d use a boolean to exit the loops and re-enter them, but unfortunately, after entering the whole string once, it asks me to do it again in order to repeat the process because i\\'m exiting and entering the wrong loop, but i can\\'t seem to figure out which...arraylist&lt;string&gt; prices = new arraylist&lt;string&gt;();.    try (bufferedreader br = new bufferedreader (new filereader(\"\"file.txt\"\"))){.        string currentline;.        while ((currentline = br.readline()) != null){.            prices.add(currentline);.        }.    }catch (ioexception e) {.        e.printstacktrace();.    }.    boolean checksequence = true;.    boolean redo = false;.    string stringarrayprices[] = new string[prices.size()];.    scanner sc = new scanner (system.in);.    while (checksequence == true){.        system.out.println(\"\"insert product in the following format, \\'product#letter#number\\': \"\");.        string productstring = sc.nextline();.        char productarray[] = productstring.tochararray();.        for (int i = 0; i &lt; prices.size(); i++){.            stringarrayprices[i] = prices.get(i);.            char chararrayprice[] = stringarrayprices[i].tochararray();.            for (int j = 0; j &lt; chararrayprice.length &amp;&amp; redo == false; j++){.                if (chararrayprice[j] == \\'#\\' &amp;&amp; chararrayprice[j+2] == \\'#\\'){.                    char temporaryletter = chararrayprice[j];.                    for (int k = 0; k &lt; productarray.length &amp;&amp; redo == false; k++){.                        if (productarray[k] == \\'#\\' &amp;&amp; productarray[k+2] == \\'#\\'){.                            char temporaryletter2 = productarray[k];.                            if (temporaryletter == temporaryletter2){.                                system.out.println(\"\"the letter is repeating. enter product again or exit by writing \\'-1\\': \"\");.                                productstring = sc.nextline();.                                if (productstring == \"\"-1\"\"){.                                    checksequence = false;.                                }.                                redo = true;.                            }.                            if (temporaryletter != temporaryletter2){.                                prices.add(productstring);.                            }.                        }.                    }.                }.            }..        }.    }...right now, when i re-enter the string, i\\'m greeted with the first message \"\"\"\"insert product in the following format, \\'product#letter#number\\': \"\"\"\", instead of the \"\"\"\"the letter is repeating. enter product again or exit by writing \\'-1\\': \"\"\"\"...the first line should only show up when i\\'m entering a completely new string instead of when the previous one\\'s repeating...i hope i didn\\'t make this too confusing.\"\\n'\n",
            "tf.Tensor(b'using boolean to exit loops and then redo the loops im fairly new to blank so i dont know too many fancy stuff and im kind of stuckwhat i need to do is take a text file import the content into an arraylist check each line for a specific char that is between two  then check each line in the arraylist again to see if one of the lines already has that char if it does then i need to reenter the whole string line and recheck it and if it doesnt then i need to put it at the bottom of the arraylist and into the text file so far ive gotten to the part where i need to check if the entered lines char is repeating but i can only do it once if for example i enter it again i would get an indexoutofboundsexception because of one of the loops so i figured id use a boolean to exit the loops and reenter them but unfortunately after entering the whole string once it asks me to do it again in order to repeat the process because im exiting and entering the wrong loop but i cant seem to figure out whicharraylistltstringgt prices  new arraylistltstringgt    try bufferedreader br  new bufferedreader new filereaderfiletxt        string currentline        while currentline  brreadline  null            pricesaddcurrentline            catch ioexception e         eprintstacktrace        boolean checksequence  true    boolean redo  false    string stringarrayprices  new stringpricessize    scanner sc  new scanner systemin    while checksequence  true        systemoutprintlninsert product in the following format productletternumber         string productstring  scnextline        char productarray  productstringtochararray        for int i  0 i lt pricessize i            stringarraypricesi  pricesgeti            char chararrayprice  stringarraypricesitochararray            for int j  0 j lt chararraypricelength ampamp redo  false j                if chararraypricej   ampamp chararraypricej2                      char temporaryletter  chararraypricej                    for int k  0 k lt productarraylength ampamp redo  false k                        if productarrayk   ampamp productarrayk2                              char temporaryletter2  productarrayk                            if temporaryletter  temporaryletter2                                systemoutprintlnthe letter is repeating enter product again or exit by writing 1                                 productstring  scnextline                                if productstring  1                                    checksequence  false                                                                redo  true                                                        if temporaryletter  temporaryletter2                                pricesaddproductstring                                                                                                                right now when i reenter the string im greeted with the first message insert product in the following format productletternumber  instead of the the letter is repeating enter product again or exit by writing 1 the first line should only show up when im entering a completely new string instead of when the previous ones repeatingi hope i didnt make this too confusing\\n', shape=(), dtype=string)\n"
          ]
        }
      ]
    },
    {
      "cell_type": "code",
      "source": [
        "vectorize_layer = tf.keras.layers.TextVectorization(\n",
        "    standardize=custom_standardization,\n",
        "    output_sequence_length = 250,\n",
        "    max_tokens = 1000,\n",
        "    output_mode='int'\n",
        ")\n",
        "\n",
        "# train_text = raw_train_ds.map(lambda x,y: x)\n",
        "# vectorize_layer.adapt(train_text)"
      ],
      "metadata": {
        "id": "aGQvV0NUJXmk"
      },
      "execution_count": 31,
      "outputs": []
    },
    {
      "cell_type": "code",
      "source": [
        "def vectorize_fun(text, label):\n",
        "  text = tf.expand_dims(text, -1)\n",
        "  return vectorize_layer(text), label\n",
        "\n",
        "train_ds = raw_train_ds.map(vectorize_fun)\n",
        "val_ds = raw_val_ds.map(vectorize_fun)\n",
        "test_ds = raw_test_ds.map(vectorize_fun)"
      ],
      "metadata": {
        "id": "KpLs3x3RP7Kg"
      },
      "execution_count": 33,
      "outputs": []
    },
    {
      "cell_type": "code",
      "source": [
        "AUTOTUNE = tf.data.AUTOTUNE\n",
        "\n",
        "train_ds = train_ds.cache().prefetch(buffer_size=AUTOTUNE)\n",
        "val_ds = val_ds.cache().prefetch(buffer_size=AUTOTUNE)\n",
        "test_ds = test_ds.cache().prefetch(buffer_size=AUTOTUNE)"
      ],
      "metadata": {
        "id": "w3AdHFNZSriL"
      },
      "execution_count": 34,
      "outputs": []
    },
    {
      "cell_type": "code",
      "source": [
        "model = tf.keras.models.Sequential([\n",
        "                                    tf.keras.layers.Embedding(input_dim = 1000+1,\n",
        "                                                              output_dim = 16,\n",
        "                                                              ),\n",
        "                                    tf.keras.layers.Dropout(0.2),\n",
        "                                    tf.keras.layers.GlobalAveragePooling1D(),\n",
        "                                    tf.keras.layers.Dropout(0.2),\n",
        "                                    tf.keras.layers.Dense(4)\n",
        "])"
      ],
      "metadata": {
        "id": "8NL-s6D2NSKp"
      },
      "execution_count": 36,
      "outputs": []
    },
    {
      "cell_type": "code",
      "source": [
        "model.compile(loss=tf.keras.losses.SparseCategoricalCrossentropy(from_logits=True),\n",
        "              metrics=['accuracy'],\n",
        "              optimizer='adam')"
      ],
      "metadata": {
        "id": "WcwqJqa7TJlo"
      },
      "execution_count": 40,
      "outputs": []
    },
    {
      "cell_type": "code",
      "source": [
        "history = model.fit(train_ds, validation_data=val_ds, epochs=100)"
      ],
      "metadata": {
        "colab": {
          "base_uri": "https://localhost:8080/"
        },
        "id": "cGCv9Y3OTvkg",
        "outputId": "3eae5178-01eb-4056-8a9b-a714658a1c3b"
      },
      "execution_count": 50,
      "outputs": [
        {
          "output_type": "stream",
          "name": "stdout",
          "text": [
            "Epoch 1/100\n",
            "200/200 [==============================] - 1s 6ms/step - loss: 0.4080 - accuracy: 0.8516 - val_loss: 0.5812 - val_accuracy: 0.7663\n",
            "Epoch 2/100\n",
            "200/200 [==============================] - 1s 6ms/step - loss: 0.4058 - accuracy: 0.8533 - val_loss: 0.5835 - val_accuracy: 0.7631\n",
            "Epoch 3/100\n",
            "200/200 [==============================] - 1s 5ms/step - loss: 0.4055 - accuracy: 0.8505 - val_loss: 0.5834 - val_accuracy: 0.7663\n",
            "Epoch 4/100\n",
            "200/200 [==============================] - 1s 6ms/step - loss: 0.4070 - accuracy: 0.8533 - val_loss: 0.5833 - val_accuracy: 0.7663\n",
            "Epoch 5/100\n",
            "200/200 [==============================] - 1s 6ms/step - loss: 0.4000 - accuracy: 0.8550 - val_loss: 0.5845 - val_accuracy: 0.7644\n",
            "Epoch 6/100\n",
            "200/200 [==============================] - 1s 6ms/step - loss: 0.3999 - accuracy: 0.8581 - val_loss: 0.5873 - val_accuracy: 0.7613\n",
            "Epoch 7/100\n",
            "200/200 [==============================] - 1s 6ms/step - loss: 0.4035 - accuracy: 0.8542 - val_loss: 0.5852 - val_accuracy: 0.7644\n",
            "Epoch 8/100\n",
            "200/200 [==============================] - 2s 9ms/step - loss: 0.3969 - accuracy: 0.8564 - val_loss: 0.5878 - val_accuracy: 0.7631\n",
            "Epoch 9/100\n",
            "200/200 [==============================] - 1s 6ms/step - loss: 0.3943 - accuracy: 0.8575 - val_loss: 0.5872 - val_accuracy: 0.7644\n",
            "Epoch 10/100\n",
            "200/200 [==============================] - 1s 6ms/step - loss: 0.3913 - accuracy: 0.8587 - val_loss: 0.5900 - val_accuracy: 0.7625\n",
            "Epoch 11/100\n",
            "200/200 [==============================] - 1s 7ms/step - loss: 0.3965 - accuracy: 0.8566 - val_loss: 0.5918 - val_accuracy: 0.7600\n",
            "Epoch 12/100\n",
            "200/200 [==============================] - 2s 9ms/step - loss: 0.3914 - accuracy: 0.8559 - val_loss: 0.5911 - val_accuracy: 0.7650\n",
            "Epoch 13/100\n",
            "200/200 [==============================] - 2s 9ms/step - loss: 0.3854 - accuracy: 0.8559 - val_loss: 0.5952 - val_accuracy: 0.7581\n",
            "Epoch 14/100\n",
            "200/200 [==============================] - 1s 6ms/step - loss: 0.3870 - accuracy: 0.8586 - val_loss: 0.5949 - val_accuracy: 0.7588\n",
            "Epoch 15/100\n",
            "200/200 [==============================] - 1s 6ms/step - loss: 0.3878 - accuracy: 0.8611 - val_loss: 0.5973 - val_accuracy: 0.7575\n",
            "Epoch 16/100\n",
            "200/200 [==============================] - 1s 5ms/step - loss: 0.3860 - accuracy: 0.8575 - val_loss: 0.5962 - val_accuracy: 0.7619\n",
            "Epoch 17/100\n",
            "200/200 [==============================] - 1s 6ms/step - loss: 0.3816 - accuracy: 0.8598 - val_loss: 0.5992 - val_accuracy: 0.7594\n",
            "Epoch 18/100\n",
            "200/200 [==============================] - 1s 6ms/step - loss: 0.3775 - accuracy: 0.8623 - val_loss: 0.6023 - val_accuracy: 0.7588\n",
            "Epoch 19/100\n",
            "200/200 [==============================] - 1s 6ms/step - loss: 0.3861 - accuracy: 0.8592 - val_loss: 0.6012 - val_accuracy: 0.7606\n",
            "Epoch 20/100\n",
            "200/200 [==============================] - 1s 6ms/step - loss: 0.3778 - accuracy: 0.8619 - val_loss: 0.6021 - val_accuracy: 0.7606\n",
            "Epoch 21/100\n",
            "200/200 [==============================] - 1s 6ms/step - loss: 0.3742 - accuracy: 0.8641 - val_loss: 0.6070 - val_accuracy: 0.7569\n",
            "Epoch 22/100\n",
            "200/200 [==============================] - 1s 6ms/step - loss: 0.3743 - accuracy: 0.8645 - val_loss: 0.6062 - val_accuracy: 0.7575\n",
            "Epoch 23/100\n",
            "200/200 [==============================] - 1s 6ms/step - loss: 0.3742 - accuracy: 0.8628 - val_loss: 0.6060 - val_accuracy: 0.7625\n",
            "Epoch 24/100\n",
            "200/200 [==============================] - 1s 6ms/step - loss: 0.3708 - accuracy: 0.8656 - val_loss: 0.6092 - val_accuracy: 0.7594\n",
            "Epoch 25/100\n",
            "200/200 [==============================] - 1s 6ms/step - loss: 0.3719 - accuracy: 0.8594 - val_loss: 0.6087 - val_accuracy: 0.7606\n",
            "Epoch 26/100\n",
            "200/200 [==============================] - 1s 6ms/step - loss: 0.3646 - accuracy: 0.8680 - val_loss: 0.6107 - val_accuracy: 0.7581\n",
            "Epoch 27/100\n",
            "200/200 [==============================] - 1s 5ms/step - loss: 0.3673 - accuracy: 0.8689 - val_loss: 0.6118 - val_accuracy: 0.7619\n",
            "Epoch 28/100\n",
            "200/200 [==============================] - 1s 6ms/step - loss: 0.3658 - accuracy: 0.8689 - val_loss: 0.6138 - val_accuracy: 0.7594\n",
            "Epoch 29/100\n",
            "200/200 [==============================] - 1s 6ms/step - loss: 0.3664 - accuracy: 0.8661 - val_loss: 0.6150 - val_accuracy: 0.7606\n",
            "Epoch 30/100\n",
            "200/200 [==============================] - 1s 6ms/step - loss: 0.3663 - accuracy: 0.8702 - val_loss: 0.6158 - val_accuracy: 0.7594\n",
            "Epoch 31/100\n",
            "200/200 [==============================] - 1s 6ms/step - loss: 0.3647 - accuracy: 0.8648 - val_loss: 0.6180 - val_accuracy: 0.7619\n",
            "Epoch 32/100\n",
            "200/200 [==============================] - 1s 6ms/step - loss: 0.3642 - accuracy: 0.8678 - val_loss: 0.6194 - val_accuracy: 0.7563\n",
            "Epoch 33/100\n",
            "200/200 [==============================] - 1s 6ms/step - loss: 0.3633 - accuracy: 0.8666 - val_loss: 0.6212 - val_accuracy: 0.7588\n",
            "Epoch 34/100\n",
            "200/200 [==============================] - 1s 7ms/step - loss: 0.3610 - accuracy: 0.8728 - val_loss: 0.6241 - val_accuracy: 0.7581\n",
            "Epoch 35/100\n",
            "200/200 [==============================] - 1s 5ms/step - loss: 0.3590 - accuracy: 0.8747 - val_loss: 0.6235 - val_accuracy: 0.7569\n",
            "Epoch 36/100\n",
            "200/200 [==============================] - 1s 6ms/step - loss: 0.3564 - accuracy: 0.8695 - val_loss: 0.6255 - val_accuracy: 0.7588\n",
            "Epoch 37/100\n",
            "200/200 [==============================] - 1s 6ms/step - loss: 0.3616 - accuracy: 0.8673 - val_loss: 0.6284 - val_accuracy: 0.7563\n",
            "Epoch 38/100\n",
            "200/200 [==============================] - 1s 6ms/step - loss: 0.3540 - accuracy: 0.8717 - val_loss: 0.6325 - val_accuracy: 0.7538\n",
            "Epoch 39/100\n",
            "200/200 [==============================] - 1s 6ms/step - loss: 0.3563 - accuracy: 0.8700 - val_loss: 0.6307 - val_accuracy: 0.7588\n",
            "Epoch 40/100\n",
            "200/200 [==============================] - 1s 6ms/step - loss: 0.3518 - accuracy: 0.8714 - val_loss: 0.6334 - val_accuracy: 0.7550\n",
            "Epoch 41/100\n",
            "200/200 [==============================] - 1s 6ms/step - loss: 0.3532 - accuracy: 0.8708 - val_loss: 0.6343 - val_accuracy: 0.7575\n",
            "Epoch 42/100\n",
            "200/200 [==============================] - 1s 6ms/step - loss: 0.3537 - accuracy: 0.8695 - val_loss: 0.6348 - val_accuracy: 0.7569\n",
            "Epoch 43/100\n",
            "200/200 [==============================] - 1s 6ms/step - loss: 0.3507 - accuracy: 0.8706 - val_loss: 0.6365 - val_accuracy: 0.7563\n",
            "Epoch 44/100\n",
            "200/200 [==============================] - 1s 6ms/step - loss: 0.3518 - accuracy: 0.8686 - val_loss: 0.6395 - val_accuracy: 0.7575\n",
            "Epoch 45/100\n",
            "200/200 [==============================] - 2s 8ms/step - loss: 0.3518 - accuracy: 0.8731 - val_loss: 0.6390 - val_accuracy: 0.7594\n",
            "Epoch 46/100\n",
            "200/200 [==============================] - 1s 6ms/step - loss: 0.3440 - accuracy: 0.8759 - val_loss: 0.6419 - val_accuracy: 0.7569\n",
            "Epoch 47/100\n",
            "200/200 [==============================] - 1s 6ms/step - loss: 0.3464 - accuracy: 0.8711 - val_loss: 0.6468 - val_accuracy: 0.7538\n",
            "Epoch 48/100\n",
            "200/200 [==============================] - 1s 6ms/step - loss: 0.3450 - accuracy: 0.8745 - val_loss: 0.6444 - val_accuracy: 0.7556\n",
            "Epoch 49/100\n",
            "200/200 [==============================] - 1s 6ms/step - loss: 0.3516 - accuracy: 0.8666 - val_loss: 0.6466 - val_accuracy: 0.7538\n",
            "Epoch 50/100\n",
            "200/200 [==============================] - 2s 8ms/step - loss: 0.3467 - accuracy: 0.8750 - val_loss: 0.6483 - val_accuracy: 0.7581\n",
            "Epoch 51/100\n",
            "200/200 [==============================] - 2s 9ms/step - loss: 0.3424 - accuracy: 0.8712 - val_loss: 0.6474 - val_accuracy: 0.7575\n",
            "Epoch 52/100\n",
            "200/200 [==============================] - 1s 5ms/step - loss: 0.3463 - accuracy: 0.8677 - val_loss: 0.6504 - val_accuracy: 0.7556\n",
            "Epoch 53/100\n",
            "200/200 [==============================] - 1s 6ms/step - loss: 0.3413 - accuracy: 0.8752 - val_loss: 0.6527 - val_accuracy: 0.7544\n",
            "Epoch 54/100\n",
            "200/200 [==============================] - 1s 6ms/step - loss: 0.3386 - accuracy: 0.8795 - val_loss: 0.6564 - val_accuracy: 0.7544\n",
            "Epoch 55/100\n",
            "200/200 [==============================] - 1s 6ms/step - loss: 0.3403 - accuracy: 0.8745 - val_loss: 0.6572 - val_accuracy: 0.7544\n",
            "Epoch 56/100\n",
            "200/200 [==============================] - 1s 7ms/step - loss: 0.3368 - accuracy: 0.8756 - val_loss: 0.6554 - val_accuracy: 0.7569\n",
            "Epoch 57/100\n",
            "200/200 [==============================] - 1s 6ms/step - loss: 0.3430 - accuracy: 0.8727 - val_loss: 0.6591 - val_accuracy: 0.7556\n",
            "Epoch 58/100\n",
            "200/200 [==============================] - 1s 6ms/step - loss: 0.3383 - accuracy: 0.8745 - val_loss: 0.6616 - val_accuracy: 0.7550\n",
            "Epoch 59/100\n",
            "200/200 [==============================] - 1s 6ms/step - loss: 0.3364 - accuracy: 0.8752 - val_loss: 0.6640 - val_accuracy: 0.7531\n",
            "Epoch 60/100\n",
            "200/200 [==============================] - 1s 6ms/step - loss: 0.3439 - accuracy: 0.8747 - val_loss: 0.6633 - val_accuracy: 0.7569\n",
            "Epoch 61/100\n",
            "200/200 [==============================] - 1s 6ms/step - loss: 0.3386 - accuracy: 0.8759 - val_loss: 0.6666 - val_accuracy: 0.7550\n",
            "Epoch 62/100\n",
            "200/200 [==============================] - 1s 6ms/step - loss: 0.3357 - accuracy: 0.8789 - val_loss: 0.6676 - val_accuracy: 0.7581\n",
            "Epoch 63/100\n",
            "200/200 [==============================] - 1s 7ms/step - loss: 0.3345 - accuracy: 0.8748 - val_loss: 0.6688 - val_accuracy: 0.7575\n",
            "Epoch 64/100\n",
            "200/200 [==============================] - 2s 11ms/step - loss: 0.3335 - accuracy: 0.8737 - val_loss: 0.6707 - val_accuracy: 0.7569\n",
            "Epoch 65/100\n",
            "200/200 [==============================] - 1s 6ms/step - loss: 0.3280 - accuracy: 0.8814 - val_loss: 0.6717 - val_accuracy: 0.7556\n",
            "Epoch 66/100\n",
            "200/200 [==============================] - 1s 6ms/step - loss: 0.3359 - accuracy: 0.8783 - val_loss: 0.6729 - val_accuracy: 0.7556\n",
            "Epoch 67/100\n",
            "200/200 [==============================] - 1s 6ms/step - loss: 0.3340 - accuracy: 0.8761 - val_loss: 0.6737 - val_accuracy: 0.7569\n",
            "Epoch 68/100\n",
            "200/200 [==============================] - 1s 7ms/step - loss: 0.3333 - accuracy: 0.8795 - val_loss: 0.6782 - val_accuracy: 0.7531\n",
            "Epoch 69/100\n",
            "200/200 [==============================] - 1s 6ms/step - loss: 0.3312 - accuracy: 0.8830 - val_loss: 0.6808 - val_accuracy: 0.7538\n",
            "Epoch 70/100\n",
            "200/200 [==============================] - 1s 7ms/step - loss: 0.3265 - accuracy: 0.8820 - val_loss: 0.6809 - val_accuracy: 0.7544\n",
            "Epoch 71/100\n",
            "200/200 [==============================] - 1s 6ms/step - loss: 0.3286 - accuracy: 0.8795 - val_loss: 0.6815 - val_accuracy: 0.7531\n",
            "Epoch 72/100\n",
            "200/200 [==============================] - 1s 7ms/step - loss: 0.3312 - accuracy: 0.8788 - val_loss: 0.6834 - val_accuracy: 0.7525\n",
            "Epoch 73/100\n",
            "200/200 [==============================] - 1s 6ms/step - loss: 0.3319 - accuracy: 0.8737 - val_loss: 0.6850 - val_accuracy: 0.7513\n",
            "Epoch 74/100\n",
            "200/200 [==============================] - 1s 6ms/step - loss: 0.3282 - accuracy: 0.8784 - val_loss: 0.6856 - val_accuracy: 0.7544\n",
            "Epoch 75/100\n",
            "200/200 [==============================] - 1s 6ms/step - loss: 0.3250 - accuracy: 0.8839 - val_loss: 0.6883 - val_accuracy: 0.7519\n",
            "Epoch 76/100\n",
            "200/200 [==============================] - 1s 6ms/step - loss: 0.3285 - accuracy: 0.8808 - val_loss: 0.6913 - val_accuracy: 0.7525\n",
            "Epoch 77/100\n",
            "200/200 [==============================] - 1s 6ms/step - loss: 0.3303 - accuracy: 0.8784 - val_loss: 0.6931 - val_accuracy: 0.7525\n",
            "Epoch 78/100\n",
            "200/200 [==============================] - 1s 7ms/step - loss: 0.3263 - accuracy: 0.8775 - val_loss: 0.6945 - val_accuracy: 0.7519\n",
            "Epoch 79/100\n",
            "200/200 [==============================] - 1s 6ms/step - loss: 0.3247 - accuracy: 0.8827 - val_loss: 0.6963 - val_accuracy: 0.7519\n",
            "Epoch 80/100\n",
            "200/200 [==============================] - 1s 7ms/step - loss: 0.3209 - accuracy: 0.8822 - val_loss: 0.6978 - val_accuracy: 0.7525\n",
            "Epoch 81/100\n",
            "200/200 [==============================] - 1s 5ms/step - loss: 0.3222 - accuracy: 0.8828 - val_loss: 0.6992 - val_accuracy: 0.7525\n",
            "Epoch 82/100\n",
            "200/200 [==============================] - 1s 5ms/step - loss: 0.3214 - accuracy: 0.8814 - val_loss: 0.7019 - val_accuracy: 0.7556\n",
            "Epoch 83/100\n",
            "200/200 [==============================] - 1s 6ms/step - loss: 0.3259 - accuracy: 0.8789 - val_loss: 0.7027 - val_accuracy: 0.7487\n",
            "Epoch 84/100\n",
            "200/200 [==============================] - 1s 7ms/step - loss: 0.3232 - accuracy: 0.8806 - val_loss: 0.7023 - val_accuracy: 0.7531\n",
            "Epoch 85/100\n",
            "200/200 [==============================] - 1s 6ms/step - loss: 0.3175 - accuracy: 0.8788 - val_loss: 0.7039 - val_accuracy: 0.7525\n",
            "Epoch 86/100\n",
            "200/200 [==============================] - 1s 6ms/step - loss: 0.3200 - accuracy: 0.8792 - val_loss: 0.7060 - val_accuracy: 0.7544\n",
            "Epoch 87/100\n",
            "200/200 [==============================] - 1s 6ms/step - loss: 0.3189 - accuracy: 0.8863 - val_loss: 0.7103 - val_accuracy: 0.7519\n",
            "Epoch 88/100\n",
            "200/200 [==============================] - 2s 9ms/step - loss: 0.3164 - accuracy: 0.8822 - val_loss: 0.7110 - val_accuracy: 0.7544\n",
            "Epoch 89/100\n",
            "200/200 [==============================] - 1s 7ms/step - loss: 0.3175 - accuracy: 0.8816 - val_loss: 0.7140 - val_accuracy: 0.7519\n",
            "Epoch 90/100\n",
            "200/200 [==============================] - 1s 6ms/step - loss: 0.3198 - accuracy: 0.8831 - val_loss: 0.7143 - val_accuracy: 0.7487\n",
            "Epoch 91/100\n",
            "200/200 [==============================] - 1s 6ms/step - loss: 0.3226 - accuracy: 0.8805 - val_loss: 0.7163 - val_accuracy: 0.7494\n",
            "Epoch 92/100\n",
            "200/200 [==============================] - 1s 6ms/step - loss: 0.3152 - accuracy: 0.8833 - val_loss: 0.7165 - val_accuracy: 0.7519\n",
            "Epoch 93/100\n",
            "200/200 [==============================] - 1s 6ms/step - loss: 0.3138 - accuracy: 0.8838 - val_loss: 0.7162 - val_accuracy: 0.7538\n",
            "Epoch 94/100\n",
            "200/200 [==============================] - 1s 6ms/step - loss: 0.3182 - accuracy: 0.8820 - val_loss: 0.7226 - val_accuracy: 0.7513\n",
            "Epoch 95/100\n",
            "200/200 [==============================] - 1s 5ms/step - loss: 0.3190 - accuracy: 0.8823 - val_loss: 0.7240 - val_accuracy: 0.7494\n",
            "Epoch 96/100\n",
            "200/200 [==============================] - 1s 6ms/step - loss: 0.3169 - accuracy: 0.8800 - val_loss: 0.7220 - val_accuracy: 0.7519\n",
            "Epoch 97/100\n",
            "200/200 [==============================] - 1s 7ms/step - loss: 0.3098 - accuracy: 0.8808 - val_loss: 0.7256 - val_accuracy: 0.7500\n",
            "Epoch 98/100\n",
            "200/200 [==============================] - 1s 6ms/step - loss: 0.3183 - accuracy: 0.8811 - val_loss: 0.7273 - val_accuracy: 0.7513\n",
            "Epoch 99/100\n",
            "200/200 [==============================] - 1s 6ms/step - loss: 0.3124 - accuracy: 0.8850 - val_loss: 0.7282 - val_accuracy: 0.7538\n",
            "Epoch 100/100\n",
            "200/200 [==============================] - 1s 6ms/step - loss: 0.3126 - accuracy: 0.8855 - val_loss: 0.7315 - val_accuracy: 0.7494\n"
          ]
        }
      ]
    },
    {
      "cell_type": "code",
      "source": [
        "loss, accuracy = model.evaluate(test_ds)"
      ],
      "metadata": {
        "colab": {
          "base_uri": "https://localhost:8080/"
        },
        "id": "9w7DhAbJT-r2",
        "outputId": "7ee2ec5f-cfdd-4c39-919c-38cd9af676ec"
      },
      "execution_count": 51,
      "outputs": [
        {
          "output_type": "stream",
          "name": "stdout",
          "text": [
            "250/250 [==============================] - 0s 2ms/step - loss: 0.7877 - accuracy: 0.7360\n"
          ]
        }
      ]
    },
    {
      "cell_type": "code",
      "source": [
        "hist = history.history\n",
        "print(hist.keys())\n",
        "import matplotlib.pyplot as plt\n",
        "epochs = range(1,101)\n",
        "\n",
        "plt.plot(epochs, hist['loss'], label='taining loss')\n",
        "plt.plot(epochs, hist['val_loss'], label= 'val loss')\n",
        "plt.legend()\n",
        "plt.show()\n",
        "\n",
        "plt.plot(epochs, hist['accuracy'], label='taining loss')\n",
        "plt.plot(epochs, hist['val_accuracy'], label= 'val loss')\n",
        "plt.legend()\n",
        "plt.show()"
      ],
      "metadata": {
        "colab": {
          "base_uri": "https://localhost:8080/",
          "height": 550
        },
        "id": "QLbDe-EfYGkQ",
        "outputId": "6942fa00-a64f-440b-a205-72ba40307ff7"
      },
      "execution_count": 52,
      "outputs": [
        {
          "output_type": "stream",
          "name": "stdout",
          "text": [
            "dict_keys(['loss', 'accuracy', 'val_loss', 'val_accuracy'])\n"
          ]
        },
        {
          "output_type": "display_data",
          "data": {
            "text/plain": [
              "<Figure size 432x288 with 1 Axes>"
            ],
            "image/png": "[encoded data removed]"
          },
          "metadata": {
            "needs_background": "light"
          }
        },
        {
          "output_type": "display_data",
          "data": {
            "text/plain": [
              "<Figure size 432x288 with 1 Axes>"
            ],
            "image/png": "[encoded data removed]"
          },
          "metadata": {
            "needs_background": "light"
          }
        }
      ]
    },
    {
      "cell_type": "code",
      "source": [
        "export_model = tf.keras.Sequential([\n",
        "  vectorize_layer,\n",
        "  model,\n",
        "  tf.keras.layers.Activation('sigmoid')\n",
        "])\n",
        "\n",
        "export_model.compile(\n",
        "    loss=tf.keras.losses.SparseCategoricalCrossentropy(from_logits=True), optimizer=\"adam\", metrics=['accuracy']\n",
        ")\n",
        "\n",
        "# Test it with `raw_test_ds`, which yields raw strings\n",
        "loss, accuracy = export_model.evaluate(raw_test_ds)\n",
        "print(accuracy)"
      ],
      "metadata": {
        "colab": {
          "base_uri": "https://localhost:8080/"
        },
        "id": "64fYhVLcauH7",
        "outputId": "8266aaba-8c1a-4d97-a5eb-e23cffe4597e"
      },
      "execution_count": 55,
      "outputs": [
        {
          "output_type": "stream",
          "name": "stderr",
          "text": [
            "/usr/local/lib/python3.7/dist-packages/tensorflow/python/util/dispatch.py:1082: UserWarning: \"`sparse_categorical_crossentropy` received `from_logits=True`, but the `output` argument was produced by a sigmoid or softmax activation and thus does not represent logits. Was this intended?\"\n",
            "  return dispatch_target(*args, **kwargs)\n"
          ]
        },
        {
          "output_type": "stream",
          "name": "stdout",
          "text": [
            "250/250 [==============================] - 3s 11ms/step - loss: 0.7877 - accuracy: 0.7360\n",
            "0.7360000014305115\n"
          ]
        }
      ]
    },
    {
      "cell_type": "code",
      "source": [
        "examples = [\n",
        "  \"The movie was great!\",\n",
        "  \"The movie was okay.\",\n",
        "  \"The movie was terrible...\"\n",
        "]\n",
        "\n",
        "export_model.predict(examples)"
      ],
      "metadata": {
        "colab": {
          "base_uri": "https://localhost:8080/"
        },
        "id": "qkdPRE1ZbK2u",
        "outputId": "a565c797-6782-4fa0-ce9e-1c0d0e12a292"
      },
      "execution_count": 56,
      "outputs": [
        {
          "output_type": "execute_result",
          "data": {
            "text/plain": [
              "array([[0.63812983, 0.565464  , 0.4680301 , 0.21368039],\n",
              "       [0.63812983, 0.565464  , 0.4680301 , 0.21368039],\n",
              "       [0.63812983, 0.565464  , 0.4680301 , 0.21368039]], dtype=float32)"
            ]
          },
          "metadata": {},
          "execution_count": 56
        }
      ]
    },
    {
      "cell_type": "code",
      "source": [
        ""
      ],
      "metadata": {
        "id": "llNQX_jPbrc7"
      },
      "execution_count": null,
      "outputs": []
    }
  ]
}